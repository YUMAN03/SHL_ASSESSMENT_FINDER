{
 "cells": [
  {
   "cell_type": "code",
   "execution_count": null,
   "id": "9b16d7e7",
   "metadata": {},
   "outputs": [
    {
     "name": "stdout",
     "output_type": "stream",
     "text": [
      "Requirement already satisfied: langchain-groq in c:\\users\\mohdy\\appdata\\local\\programs\\python\\python312\\lib\\site-packages (0.3.2)\n",
      "Requirement already satisfied: langchain-core<1.0.0,>=0.3.49 in c:\\users\\mohdy\\appdata\\local\\programs\\python\\python312\\lib\\site-packages (from langchain-groq) (0.3.51)\n",
      "Requirement already satisfied: groq<1,>=0.4.1 in c:\\users\\mohdy\\appdata\\local\\programs\\python\\python312\\lib\\site-packages (from langchain-groq) (0.22.0)\n",
      "Requirement already satisfied: anyio<5,>=3.5.0 in c:\\users\\mohdy\\appdata\\local\\programs\\python\\python312\\lib\\site-packages (from groq<1,>=0.4.1->langchain-groq) (4.4.0)\n",
      "Requirement already satisfied: distro<2,>=1.7.0 in c:\\users\\mohdy\\appdata\\local\\programs\\python\\python312\\lib\\site-packages (from groq<1,>=0.4.1->langchain-groq) (1.9.0)\n",
      "Requirement already satisfied: httpx<1,>=0.23.0 in c:\\users\\mohdy\\appdata\\local\\programs\\python\\python312\\lib\\site-packages (from groq<1,>=0.4.1->langchain-groq) (0.27.0)\n",
      "Requirement already satisfied: pydantic<3,>=1.9.0 in c:\\users\\mohdy\\appdata\\local\\programs\\python\\python312\\lib\\site-packages (from groq<1,>=0.4.1->langchain-groq) (2.11.2)\n",
      "Requirement already satisfied: sniffio in c:\\users\\mohdy\\appdata\\local\\programs\\python\\python312\\lib\\site-packages (from groq<1,>=0.4.1->langchain-groq) (1.3.1)\n",
      "Requirement already satisfied: typing-extensions<5,>=4.10 in c:\\users\\mohdy\\appdata\\local\\programs\\python\\python312\\lib\\site-packages (from groq<1,>=0.4.1->langchain-groq) (4.12.2)\n",
      "Requirement already satisfied: langsmith<0.4,>=0.1.125 in c:\\users\\mohdy\\appdata\\local\\programs\\python\\python312\\lib\\site-packages (from langchain-core<1.0.0,>=0.3.49->langchain-groq) (0.3.24)\n",
      "Requirement already satisfied: tenacity!=8.4.0,<10.0.0,>=8.1.0 in c:\\users\\mohdy\\appdata\\local\\programs\\python\\python312\\lib\\site-packages (from langchain-core<1.0.0,>=0.3.49->langchain-groq) (9.1.2)\n",
      "Requirement already satisfied: jsonpatch<2.0,>=1.33 in c:\\users\\mohdy\\appdata\\local\\programs\\python\\python312\\lib\\site-packages (from langchain-core<1.0.0,>=0.3.49->langchain-groq) (1.33)\n",
      "Requirement already satisfied: PyYAML>=5.3 in c:\\users\\mohdy\\appdata\\local\\programs\\python\\python312\\lib\\site-packages (from langchain-core<1.0.0,>=0.3.49->langchain-groq) (6.0.1)\n",
      "Requirement already satisfied: packaging<25,>=23.2 in c:\\users\\mohdy\\appdata\\local\\programs\\python\\python312\\lib\\site-packages (from langchain-core<1.0.0,>=0.3.49->langchain-groq) (24.1)\n",
      "Requirement already satisfied: idna>=2.8 in c:\\users\\mohdy\\appdata\\local\\programs\\python\\python312\\lib\\site-packages (from anyio<5,>=3.5.0->groq<1,>=0.4.1->langchain-groq) (3.7)\n",
      "Requirement already satisfied: certifi in c:\\users\\mohdy\\appdata\\local\\programs\\python\\python312\\lib\\site-packages (from httpx<1,>=0.23.0->groq<1,>=0.4.1->langchain-groq) (2024.6.2)\n",
      "Requirement already satisfied: httpcore==1.* in c:\\users\\mohdy\\appdata\\local\\programs\\python\\python312\\lib\\site-packages (from httpx<1,>=0.23.0->groq<1,>=0.4.1->langchain-groq) (1.0.5)\n",
      "Requirement already satisfied: h11<0.15,>=0.13 in c:\\users\\mohdy\\appdata\\local\\programs\\python\\python312\\lib\\site-packages (from httpcore==1.*->httpx<1,>=0.23.0->groq<1,>=0.4.1->langchain-groq) (0.14.0)\n",
      "Requirement already satisfied: jsonpointer>=1.9 in c:\\users\\mohdy\\appdata\\local\\programs\\python\\python312\\lib\\site-packages (from jsonpatch<2.0,>=1.33->langchain-core<1.0.0,>=0.3.49->langchain-groq) (3.0.0)\n",
      "Requirement already satisfied: orjson<4.0.0,>=3.9.14 in c:\\users\\mohdy\\appdata\\local\\programs\\python\\python312\\lib\\site-packages (from langsmith<0.4,>=0.1.125->langchain-core<1.0.0,>=0.3.49->langchain-groq) (3.10.16)\n",
      "Requirement already satisfied: requests<3,>=2 in c:\\users\\mohdy\\appdata\\local\\programs\\python\\python312\\lib\\site-packages (from langsmith<0.4,>=0.1.125->langchain-core<1.0.0,>=0.3.49->langchain-groq) (2.32.3)\n",
      "Requirement already satisfied: requests-toolbelt<2.0.0,>=1.0.0 in c:\\users\\mohdy\\appdata\\local\\programs\\python\\python312\\lib\\site-packages (from langsmith<0.4,>=0.1.125->langchain-core<1.0.0,>=0.3.49->langchain-groq) (1.0.0)\n",
      "Requirement already satisfied: zstandard<0.24.0,>=0.23.0 in c:\\users\\mohdy\\appdata\\local\\programs\\python\\python312\\lib\\site-packages (from langsmith<0.4,>=0.1.125->langchain-core<1.0.0,>=0.3.49->langchain-groq) (0.23.0)\n",
      "Requirement already satisfied: annotated-types>=0.6.0 in c:\\users\\mohdy\\appdata\\local\\programs\\python\\python312\\lib\\site-packages (from pydantic<3,>=1.9.0->groq<1,>=0.4.1->langchain-groq) (0.7.0)\n",
      "Requirement already satisfied: pydantic-core==2.33.1 in c:\\users\\mohdy\\appdata\\local\\programs\\python\\python312\\lib\\site-packages (from pydantic<3,>=1.9.0->groq<1,>=0.4.1->langchain-groq) (2.33.1)\n",
      "Requirement already satisfied: typing-inspection>=0.4.0 in c:\\users\\mohdy\\appdata\\local\\programs\\python\\python312\\lib\\site-packages (from pydantic<3,>=1.9.0->groq<1,>=0.4.1->langchain-groq) (0.4.0)\n",
      "Requirement already satisfied: charset-normalizer<4,>=2 in c:\\users\\mohdy\\appdata\\local\\programs\\python\\python312\\lib\\site-packages (from requests<3,>=2->langsmith<0.4,>=0.1.125->langchain-core<1.0.0,>=0.3.49->langchain-groq) (3.3.2)\n",
      "Requirement already satisfied: urllib3<3,>=1.21.1 in c:\\users\\mohdy\\appdata\\local\\programs\\python\\python312\\lib\\site-packages (from requests<3,>=2->langsmith<0.4,>=0.1.125->langchain-core<1.0.0,>=0.3.49->langchain-groq) (2.3.0)\n"
     ]
    }
   ],
   "source": [
    "!pip install langchain-groq"
   ]
  },
  {
   "cell_type": "code",
   "execution_count": 160,
   "id": "0222a88a",
   "metadata": {},
   "outputs": [],
   "source": [
    "pinecone_api_key = 'pcsk_3fmdnB_4wc5UXTGV1rcwr9ehmXzXNRyyx8vHg32kkwZtndUoyBTanKS7RruVi8WfjgHbwG'\n",
    "groq_api_key = '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'\n"
   ]
  },
  {
   "cell_type": "code",
   "execution_count": 161,
   "id": "976762d3",
   "metadata": {},
   "outputs": [],
   "source": [
    "from langchain_core.prompts import PromptTemplate\n",
    "from langchain_groq import ChatGroq\n",
    "from langchain_pinecone import PineconeVectorStore\n",
    "from pinecone import Pinecone\n",
    "from langchain_pinecone import PineconeEmbeddings"
   ]
  },
  {
   "cell_type": "code",
   "execution_count": null,
   "id": "4d8741ca",
   "metadata": {},
   "outputs": [],
   "source": [
    "llm = ChatGroq(temperature=0, groq_api_key=groq_api_key,model='llama-3.3-70b-versatile')"
   ]
  },
  {
   "cell_type": "code",
   "execution_count": 163,
   "id": "c8cd2dc2",
   "metadata": {},
   "outputs": [
    {
     "name": "stdout",
     "output_type": "stream",
     "text": [
      "Retriever successfully created.\n"
     ]
    },
    {
     "data": {
      "text/plain": [
       "'retriever = PineconeHybridSearchRetriever(\\n    embeddings=embeddings, sparse_encoder=bm25_encoder, index=index, alpha = 0.5, top_k = 20,text_key=\"text\"\\n)'"
      ]
     },
     "execution_count": 163,
     "metadata": {},
     "output_type": "execute_result"
    }
   ],
   "source": [
    "from langchain.retrievers import PineconeHybridSearchRetriever\n",
    "from pinecone_text.sparse import BM25Encoder\n",
    "\n",
    "bm25_encoder = BM25Encoder().default()\n",
    "\n",
    "pc = Pinecone(api_key=pinecone_api_key)\n",
    "index_name = 'shldb2'\n",
    "index = pc.Index(index_name)\n",
    "embeddings = PineconeEmbeddings(api_key=pinecone_api_key, model = 'multilingual-e5-large')\n",
    "vectorstore = PineconeVectorStore(index = index, embedding=embeddings)\n",
    "\n",
    "try:\n",
    "    retriever = vectorstore.as_retriever(\n",
    "        search_type='similarity_score_threshold',\n",
    "        search_kwargs={'k': 20, 'score_threshold': 0.7},\n",
    "    )\n",
    "    print(\"Retriever successfully created.\")\n",
    "except Exception as e:\n",
    "    print(f\"Error while creating retriever: {e}\")\n",
    "\n",
    "'''retriever = PineconeHybridSearchRetriever(\n",
    "    embeddings=embeddings, sparse_encoder=bm25_encoder, index=index, alpha = 0.5, top_k = 20,text_key=\"text\"\n",
    ")'''"
   ]
  },
  {
   "cell_type": "code",
   "execution_count": 164,
   "id": "f96b8d91",
   "metadata": {},
   "outputs": [],
   "source": [
    "query = \"I am hiring for an analyst and wants applications to screen using Cognitive and personality tests, what options are available within 45 mins.\"\n",
    "\n",
    "docs = retriever.invoke(query)"
   ]
  },
  {
   "cell_type": "code",
   "execution_count": 165,
   "id": "227c8676",
   "metadata": {},
   "outputs": [
    {
     "data": {
      "text/plain": [
       "'Title : Phone Banker - Short Form \\n URL : https://www.shl.com/solutions/products/product-catalog/view/phone-banker-short-form/ \\n Remote Testing : Yes \\n Adaptive : No \\n\\n Description : This solution is for entry to mid-level financial institution positions. Candidates are asked to answer multiple choice questions to assess learning potential, dependability, persistence and planfulness, sales focus, customer focus, and working with information. Entry-Level, Mid-Professional, English (USA), Approximate Completion Time in minutes = 40 Test Type: Ability & Aptitude, Biodata & Situational Judgement, Personality & Behavior  Remote Testing \\n\\n  \\n \\n Title : Phone Banker - Short Form \\n URL : https://www.shl.com/solutions/products/product-catalog/view/phone-banker-short-form/ \\n Remote Testing : Yes \\n Adaptive : No \\n\\n Description : This solution is for entry to mid-level financial institution positions. Candidates are asked to answer multiple choice questions to assess learning potential, dependability, persistence and planfulness, sales focus, customer focus, and working with information. Entry-Level, Mid-Professional, English (USA), Approximate Completion Time in minutes = 40 Test Type: Ability & Aptitude, Biodata & Situational Judgement, Personality & Behavior  Remote Testing \\n\\n  \\n \\n Title : Smart Interview On Demand \\n URL : https://www.shl.com/solutions/products/product-catalog/view/smart-interview-on-demand/ \\n Remote Testing : Yes \\n Adaptive : No \\n\\n Description : Smart Interview On Demand is arecorded(asynchronous) video interview tool, that introduces you to each person behind the resume with a short-recorded video of them explaining why they would be an awesome addition to your team. A streamlined, minimum bias screening to ensure you shortlist top talent faster and find those hidden gems you may have otherwise missed. Availability Theadministrator and evaluator interfaceis available in US English and Simplified Chinese only, as are the standard question banks. However, custom questions can be added or recorded in any language. Theparticipant interfaceis available in: Arabic, Brazilian Portuguese, Bulgarian, Canadian French, Chinese, Croatian, Czech, Danish, Dutch, Dutch (Belgium), Estonian, Finnish, French, German, Greek, Hindi, Hungarian, Italian, Indonesian, Japanese, Korean, Latvian, Lithuanian, Malaysian, Mexican Spanish, Norwegian, Polish, Portuguese, Romanian, Russian, Serbian, Slovak, Slovenian, Spanish, Swedish, Taiwanese Chinese, Thai, Turkish, UK English, Ukrainian, US English, Vietnamese.Your use of this assessment product may be subject to New York City Law 144 (Regulation of the Use of Automated Employment Decision Tools) (dated July 5, 2023). Compliance with Law 144 is your responsibility. Read more on https://www.shl.com/legal/shl-us-regulatory-compliance/ Entry-Level, Supervisor, Manager, Front Line Manager, General Population, Graduate, Mid-Professional, Professional Individual Contributor, English (USA), Chinese Simplified, Approximate Completion Time in minutes = Variable Test Type: Personality & Behavior  Remote Testing \\n\\n  \\n \\n Title : Virtual Assessment and Development Centers \\n URL : https://www.shl.com/solutions/products/product-catalog/view/virtual-assessment-and-development-centers/ \\n Remote Testing : Yes \\n Adaptive : No \\n\\n Description : SHL’s innovative virtual assessment centers wow new hires or existing employees and show how you invest in your people. They are a highly engaging experience, inclusive and packed with predictive power to undercover potential. SHL’s virtual assessment and development center platform is packaged with features to support your candidates, assessors and center administrators. Deliver a full range of assessment center exercises, from inbox simulations and written analysis, through coaching and role-play with preparation materials and one to one live virtual interactions, to assigned or unassigned role group exercises. Exercises are available across a range of job levels and industry scenarios Want to find out more or book a demo? Visit https://www.shl.com/en/solutions/virtual/virtual-assessment-development-center/Language Availabilityfor the candidate and assessor simulation interface is shown in the list below.Language Availabilityfor the live interactions interface (Smart Interview Live) is currently: English US, Japanese, Simplified Chinese, Spanish, Portuguese, Brazilian Portuguese, French, Canadian French, Italian, Dutch, Latin American Spanish, Romanian, Indonesian, German, Greek. Director, Entry-Level, Executive, Front Line Manager, General Population, Graduate, Manager, Mid-Professional, Professional Individual Contributor, Supervisor, English (USA), English International, Italian, German, Portuguese, Spanish, Latin American Spanish, French, French (Canada), Dutch, Japanese, Indonesian, Greek, Romanian, Chinese Simplified, Arabic, Approximate Completion Time in minutes = N/A Test Type: Personality & Behavior  Remote Testing \\n\\n  \\n \\n Title : Bank Collections Agent - Short Form \\n URL : https://www.shl.com/solutions/products/product-catalog/view/bank-collections-agent-short-form/ \\n Remote Testing : Yes \\n Adaptive : No \\n\\n Description : This solution is for entry-level collections positions in an inbound or outbound call center environment in a financial setting. Candidates answer multiple choice questions to measure achievement orientation, dependability, collector numerical skills, revenue recovery, customer focus, and persistence and planfulness. There are multiple configurations and versions of this solution available. Entry-Level, English (USA), Approximate Completion Time in minutes = 45 Test Type: Ability & Aptitude, Biodata & Situational Judgement, Personality & Behavior  Remote Testing \\n\\n  \\n \\n Title : Bank Collections Agent - Short Form \\n URL : https://www.shl.com/solutions/products/product-catalog/view/bank-collections-agent-short-form/ \\n Remote Testing : Yes \\n Adaptive : No \\n\\n Description : This solution is for entry-level collections positions in an inbound or outbound call center environment in a financial setting. Candidates answer multiple choice questions to measure achievement orientation, dependability, collector numerical skills, revenue recovery, customer focus, and persistence and planfulness. There are multiple configurations and versions of this solution available. Entry-Level, English (USA), Approximate Completion Time in minutes = 45 Test Type: Ability & Aptitude, Biodata & Situational Judgement, Personality & Behavior  Remote Testing \\n\\n  \\n \\n Title : Visual Basic for Applications (New) \\n URL : https://www.shl.com/solutions/products/product-catalog/view/visual-basic-for-applications-new/ \\n Remote Testing : Yes \\n Adaptive : No \\n\\n Description : Multi-choice test that measures the knowledge of VBA programming constructs, forms, controls and VBA security. Mid-Professional, Professional Individual Contributor, English (USA), Approximate Completion Time in minutes = 7 Test Type: Knowledge & Skills  Remote Testing \\n\\n  \\n \\n Title : Customer Service Phone Solution \\n URL : https://www.shl.com/solutions/products/product-catalog/view/customer-service-phone-solution/ \\n Remote Testing : Yes \\n Adaptive : No \\n\\n Description : As part of Contact Center Simulations, the Customer Service Phone Solution includes a contact center simulation and two behavioral tests designed to measure a wide range of skills, competencies, and behavioral tendencies relevant for contact center jobs. The Contact Center Simulation provides an opportunity for candidates to interact with simulated customers in a contact center environment. Designed to measure a candidate’s ability to listen attentively to the customer, take ownership of customer issues, resolve issues, navigate to find information, and enter information accurately, the Contact Center Simulation is intended to measure how a candidate will respond in a variety of customer situations and assess the candidate’s computer skills in a contact center setting. The behavioral tests in this solution are intended to measure the candidate’s learning potential and the tendency to meet goals and work hard, even when faced with obstacles. Collectively, the assessments in this solution measure a wide range of important skills, abilities, and behaviors for entry-level contact center roles.\"Please note that for Simplified Chinese version the audio is available in both Mandarin and Cantonese.\" Entry-Level, French (Canada), Italian, French, Dutch, Spanish, Portuguese (Brazil), Chinese Simplified, English (Australia), Latin American Spanish, English (USA), English International, Approximate Completion Time in minutes = 30 Test Type: Biodata & Situational Judgement, Personality & Behavior, Simulations  Remote Testing \\n\\n  \\n \\n Title : AI Skills \\n URL : https://www.shl.com/solutions/products/product-catalog/view/ai-skills/ \\n Remote Testing : Yes \\n Adaptive : No \\n\\n Description : The AI Skills assessment measures the skills that help candidates successfully leverage AI in their work. General Population, English (USA), Approximate Completion Time in minutes = 16 Test Type: Personality & Behavior  Remote Testing \\n\\n  \\n \\n Title : Contact Center Team Lead/Coach - Short Form \\n URL : https://www.shl.com/solutions/products/product-catalog/view/contact-center-team-leadcoach-short-form/ \\n Remote Testing : Yes \\n Adaptive : Yes \\n\\n Description : The Contact Center - Team Lead/Coach solution is for job candidates applying to entry-level leadership positions who tend to supervise hourly employees. Sample tasks for these jobs include, but are not limited to: planning and preparing work schedules; assigning employees to specific duties; coaching employees on attendance, conduct, schedule adherence, and work tasks; developing employees\\' skills; training subordinates or less tenured peers; prioritizing multiple tasks and priorities; and making day-to-day decisions with minimal guidance from others. Potential job titles that use this solution are: Team Leader, Coach, First Line Supervisor, Processing Supervisor, Call Center Supervisor, and Customer Service Supervisor. Front Line Manager, Professional Individual Contributor, Supervisor, English (USA), Approximate Completion Time in minutes = 45 Test Type: Ability & Aptitude, Biodata & Situational Judgement, Personality & Behavior, Simulations  Remote Testing Adaptive/IRT \\n\\n  \\n \\n Title : Contact Centre Agent Solution - UK \\n URL : https://www.shl.com/solutions/products/product-catalog/view/contact-centre-agent-solution-uk/ \\n Remote Testing : Yes \\n Adaptive : No \\n\\n Description : This solution is used for job candidates applying to entry-level positions in a contact centre environment where the main focus of the job is customer service. The candidate answers multiple choice questions as well as questions in a customer call simulation environment. The solution measures: working with information, customer focus, contact centre retention, navigation, service orientation, and tactful problem solving. In addition, the solution measures data entry speed and accuracy, multi-tasking preferences, achievement orientation and conscientiousness. Entry-Level, English International, Approximate Completion Time in minutes = 39 Test Type: Ability & Aptitude, Biodata & Situational Judgement, Personality & Behavior, Simulations  Remote Testing \\n\\n  \\n \\n Title : Branch Manager - Short Form \\n URL : https://www.shl.com/solutions/products/product-catalog/view/branch-manager-short-form/ \\n Remote Testing : Yes \\n Adaptive : No \\n\\n Description : This solution is for mid to upper-level financial institution managerial positions. Candidates answer a series of multiple choice questions to measure management potential, management judgment, leadership potential, team management, branch manager problem solving, business leadership, leadership motivation, interpersonal leadership, self leadership, and branch manager judgment. There are multiple configurations and versions of this solution available. Front Line Manager, Manager, Supervisor, English (USA), Approximate Completion Time in minutes = 50 Test Type: Ability & Aptitude, Biodata & Situational Judgement, Personality & Behavior  Remote Testing \\n\\n  \\n \\n Title : Branch Manager - Short Form \\n URL : https://www.shl.com/solutions/products/product-catalog/view/branch-manager-short-form/ \\n Remote Testing : Yes \\n Adaptive : No \\n\\n Description : This solution is for mid to upper-level financial institution managerial positions. Candidates answer a series of multiple choice questions to measure management potential, management judgment, leadership potential, team management, branch manager problem solving, business leadership, leadership motivation, interpersonal leadership, self leadership, and branch manager judgment. There are multiple configurations and versions of this solution available. Front Line Manager, Manager, Supervisor, English (USA), Approximate Completion Time in minutes = 50 Test Type: Ability & Aptitude, Biodata & Situational Judgement, Personality & Behavior  Remote Testing \\n\\n  \\n \\n Title : Sales & Service Phone Solution \\n URL : https://www.shl.com/solutions/products/product-catalog/view/sales-and-service-phone-solution/ \\n Remote Testing : Yes \\n Adaptive : No \\n\\n Description : As part of Contact Center Simulations, the Sales & Service Phone Solution includes a contact center simulation and three behavioral tests designed to measure a wide range of skills, competencies, and behavioral tendencies relevant for contact center jobs. This solution is designed for contact center roles that involve sales or sales-related behaviors such as recommending products or services and retaining customers. Sample tasks for these jobs include: interact with customers on the phone to sell a product/service; add new or upgraded products or services; extend promotional or retention offers; respond appropriately to customer objections; navigate to information menus to assist the customer and process information; and type information quickly and accurately. Potential job titles that use this simulation are: Telesales Representative, Telemarketer, and Contact Center Representative. The behavioral tests in this solution are intended to measure the candidate’s sales focus, learning potential, and the tendency to meet goals and work hard, even when faced with obstacles. Collectively, the assessments in this solution measure a wide range of important skills, abilities, and behaviors for entry-level contact center roles involving sales or sales and service. Entry-Level, English (USA), Latin American Spanish, English (Australia), English International, Chinese Simplified, Spanish, German, Dutch, Italian, French, Portuguese (Brazil), French (Canada), Approximate Completion Time in minutes = 35 Test Type: Biodata & Situational Judgement, Personality & Behavior, Simulations  Remote Testing \\n\\n  \\n \\n Title : Universal Competency Framework Profiler Cards (44) \\n URL : https://www.shl.com/solutions/products/product-catalog/view/universal-competency-framework-profiler-cards-44/ \\n Remote Testing : Yes \\n Adaptive : No \\n\\n Description : The UCF sets out the key behaviours that drive performance using a standard, proven hierarchy that can be applied to virtually any job at any level, in any organisation around the world. Director, Entry-Level, Executive, Front Line Manager, Manager, Mid-Professional, Professional Individual Contributor, Portuguese (Brazil), Latin American Spanish, French, Chinese Simplified, Icelandic, Lithuanian, Danish, Dutch, English International, Finnish, German, Italian, Norwegian, Portuguese, Spanish, English (USA), Swedish, Approximate Completion Time in minutes = Untimed Test Type: Competencies, Personality & Behavior  Remote Testing \\n\\n  \\n \\n Title : Financial Professional - Short Form \\n URL : https://www.shl.com/solutions/products/product-catalog/view/financial-professional-short-form/ \\n Remote Testing : Yes \\n Adaptive : No \\n\\n Description : This solution is for mid-level financial institution positions that require Series 6/7 certification. Candidates answer multiple choice questions to measure financial professional aptitude, learning potential, achievement orientation, conscientiousness, persistence and planfulness, self leadership, interpersonal leadership, sales focus and customer focus. Mid-Professional, Professional Individual Contributor, English (USA), Approximate Completion Time in minutes = 35 Test Type: Ability & Aptitude, Biodata & Situational Judgement, Personality & Behavior  Remote Testing \\n\\n  \\n \\n Title : Interviewing and Hiring Concepts (U.S.) \\n URL : https://www.shl.com/solutions/products/product-catalog/view/interviewing-and-hiring-concepts-u-s/ \\n Remote Testing : Yes \\n Adaptive : Yes \\n\\n Description : The Interviewing and Hiring Concepts (U.S.) test measures knowledge of the interviewing and hiring process. Designed for all employees and hiring managers, this test covers the following topics: Behavior Traits, Behavioral Interviewing, Candidate Fit, Interview Quality Control, Job Analysis, Legal Compliance, Probing Skills, Screening, Situational Interviews, and Types of Interviews. Front Line Manager, Manager, English (USA), Approximate Completion Time in minutes = 15 to 35 Test Type: Knowledge & Skills  Remote Testing Adaptive/IRT \\n\\n  \\n \\n Title : General Entry Level – Data Entry 7.0 Solution \\n URL : https://www.shl.com/solutions/products/product-catalog/view/general-entry-level-data-entry-7-0-solution/ \\n Remote Testing : Yes \\n Adaptive : No \\n\\n Description : Our General Entry Level – Data Entry 7.0 solution is designed for entry-level positions that include entering data into computers or data management systems. This solution measures speed and accuracy at typing text and numbers into forms and predicts the following types of behaviors foundational to all jobs: being on-time to work; following rules and policies; treating others respectfully; producing quality work; meeting goals; and approaching work in a thorough and precise manner. This solution can be used across all industries with entry-level positions. Example titles include, but are not limited to: Accounting Clerk, Accounts Receivable Clerk, Administrative Clerk, Clerical Aide, Clerical Assistant, Office Assistant, Office Services Specialist, Staff Assistant.Report Language Availability:English (USA) General Population, Entry-Level, English (USA), Approximate Completion Time in minutes = 24 Test Type: Biodata & Situational Judgement, Knowledge & Skills  Remote Testing \\n\\n  \\n \\n Title : Personal Banker - Short Form \\n URL : https://www.shl.com/solutions/products/product-catalog/view/personal-banker-short-form/ \\n Remote Testing : Yes \\n Adaptive : No \\n\\n Description : The Personal Banker – Loan Officer solution is for entry to mid-level financial institution positions. Sample tasks for this job would include, but are not limited to: acquiring, retaining and expanding new and existing customer relationships, discovering customer needs, making the best recommendation, completing sales, proactively contacting & meeting customers, and asking for referrals. Entry-Level, Mid-Professional, English (USA), Approximate Completion Time in minutes = 30 Test Type: Ability & Aptitude, Biodata & Situational Judgement, Knowledge & Skills, Personality & Behavior, Simulations  Remote Testing \\n\\n  \\n \\n Title : Personal Banker - Short Form \\n URL : https://www.shl.com/solutions/products/product-catalog/view/personal-banker-short-form/ \\n Remote Testing : Yes \\n Adaptive : No \\n\\n Description : The Personal Banker – Loan Officer solution is for entry to mid-level financial institution positions. Sample tasks for this job would include, but are not limited to: acquiring, retaining and expanding new and existing customer relationships, discovering customer needs, making the best recommendation, completing sales, proactively contacting & meeting customers, and asking for referrals. Entry-Level, Mid-Professional, English (USA), Approximate Completion Time in minutes = 30 Test Type: Ability & Aptitude, Biodata & Situational Judgement, Knowledge & Skills, Personality & Behavior, Simulations  Remote Testing \\n\\n  \\n \\n '"
      ]
     },
     "execution_count": 165,
     "metadata": {},
     "output_type": "execute_result"
    }
   ],
   "source": [
    "context = \"\"\n",
    "for doc in docs:\n",
    "    context += doc.page_content + \" \\n \\n \"\n",
    "\n",
    "\n",
    "context"
   ]
  },
  {
   "cell_type": "code",
   "execution_count": 166,
   "id": "3cbad850",
   "metadata": {},
   "outputs": [],
   "source": [
    "template = '''\n",
    "List of assesments : \\n\n",
    "{context}\n",
    "From the list of 20 assessments I've identified, select the top 1-5 options that best match technical skills (prioritized) followed by soft skills. Focus especially on programming languages and technical frameworks.\n",
    "\n",
    "For each assessment, provide ONLY the following information in this exact format:\n",
    "- Title: [exact title]\n",
    "- URL: [complete URL]\n",
    "- Remote Testing: [Yes/No]\n",
    "- Adaptive/IRT: [Yes/No] \n",
    "- Duration: [specific time OR \"Not specified\" if not mentioned]\n",
    "- Test Type: [extract this directly from the description after \"test type\"]\n",
    "\n",
    "Important instructions:\n",
    "1. Return exactly 1-5 assessments total\n",
    "2. The duration listed must not exceed what's actually specified\n",
    "3. Present ONLY the assessment list - no introduction, explanation, or conclusion\n",
    "4. Sort by technical skill match first, then soft skill relevance\n",
    "Answer for the following query: \\n\n",
    "{query} \n",
    "'''"
   ]
  },
  {
   "cell_type": "code",
   "execution_count": 167,
   "id": "cfbee376",
   "metadata": {},
   "outputs": [
    {
     "name": "stdout",
     "output_type": "stream",
     "text": [
      "- Title: Phone Banker - Short Form\n",
      "- URL: https://www.shl.com/solutions/products/product-catalog/view/phone-banker-short-form/\n",
      "- Remote Testing: Yes\n",
      "- Adaptive/IRT: No\n",
      "- Duration: 40\n",
      "- Test Type: Ability & Aptitude, Biodata & Situational Judgement, Personality & Behavior\n",
      "\n",
      "- Title: Bank Collections Agent - Short Form\n",
      "- URL: https://www.shl.com/solutions/products/product-catalog/view/bank-collections-agent-short-form/\n",
      "- Remote Testing: Yes\n",
      "- Adaptive/IRT: No\n",
      "- Duration: 45\n",
      "- Test Type: Ability & Aptitude, Biodata & Situational Judgement, Personality & Behavior\n",
      "\n",
      "- Title: Customer Service Phone Solution\n",
      "- URL: https://www.shl.com/solutions/products/product-catalog/view/customer-service-phone-solution/\n",
      "- Remote Testing: Yes\n",
      "- Adaptive/IRT: No\n",
      "- Duration: 30\n",
      "- Test Type: Biodata & Situational Judgement, Personality & Behavior, Simulations\n",
      "\n",
      "- Title: Contact Centre Agent Solution - UK\n",
      "- URL: https://www.shl.com/solutions/products/product-catalog/view/contact-centre-agent-solution-uk/\n",
      "- Remote Testing: Yes\n",
      "- Adaptive/IRT: No\n",
      "- Duration: 39\n",
      "- Test Type: Ability & Aptitude, Biodata & Situational Judgement, Personality & Behavior, Simulations\n",
      "\n",
      "- Title: Sales & Service Phone Solution\n",
      "- URL: https://www.shl.com/solutions/products/product-catalog/view/sales-and-service-phone-solution/\n",
      "- Remote Testing: Yes\n",
      "- Adaptive/IRT: No\n",
      "- Duration: 35\n",
      "- Test Type: Biodata & Situational Judgement, Personality & Behavior, Simulations\n"
     ]
    }
   ],
   "source": [
    "prompt = PromptTemplate.from_template(template)\n",
    "\n",
    "llm_chain = prompt | llm\n",
    "response = llm_chain.invoke({\"context\": context, \"query\": query})\n",
    "print(response.content)"
   ]
  },
  {
   "cell_type": "markdown",
   "id": "4556ae11",
   "metadata": {},
   "source": [
    "'Title : Python (New) \\n URL : https://www.shl.com/solutions/products/product-catalog/view/python-new/ \\n Remote Testing : Yes \\n Adaptive : No \\n\\n Description : Multi-choice test that measures the knowledge of Python programming, databases, modules and library. Mid-Professional, Professional Individual Contributor, English (USA), Approximate Completion Time in minutes = 11 Test Type: Knowledge & Skills  Remote Testing \\n\\n  \\n \\n Title : Financial Professional - Short Form \\n URL : https://www.shl.com/solutions/products/product-catalog/view/financial-professional-short-form/ \\n Remote Testing : Yes \\n Adaptive : No \\n\\n Description : This solution is for mid-level financial institution positions that require Series 6/7 certification. Candidates answer multiple choice questions to measure financial professional aptitude, learning potential, achievement orientation, conscientiousness, persistence and planfulness, self leadership, interpersonal leadership, sales focus and customer focus. Mid-Professional, Professional Individual Contributor, English (USA), Approximate Completion Time in minutes = 35 Test Type: Ability & Aptitude, Biodata & Situational Judgement, Personality & Behavior  Remote Testing \\n\\n  \\n \\n Title : JavaScript (New) \\n URL : https://www.shl.com/solutions/products/product-catalog/view/javascript-new/ \\n Remote Testing : Yes \\n Adaptive : No \\n\\n Description : Multi-choice test that measures knowledge of programming in the JavaScript language and its application in front-end development. Mid-Professional, Professional Individual Contributor, English (USA), Approximate Completion Time in minutes = 9 Test Type: Knowledge & Skills  Remote Testing \\n\\n  \\n \\n Title : Smart Interview On Demand \\n URL : https://www.shl.com/solutions/products/product-catalog/view/smart-interview-on-demand/ \\n Remote Testing : Yes \\n Adaptive : No \\n\\n Description : Smart Interview On Demand is arecorded(asynchronous) video interview tool, that introduces you to each person behind the resume with a short-recorded video of them explaining why they would be an awesome addition to your team. A streamlined, minimum bias screening to ensure you shortlist top talent faster and find those hidden gems you may have otherwise missed. Availability Theadministrator and evaluator interfaceis available in US English and Simplified Chinese only, as are the standard question banks. However, custom questions can be added or recorded in any language. Theparticipant interfaceis available in: Arabic, Brazilian Portuguese, Bulgarian, Canadian French, Chinese, Croatian, Czech, Danish, Dutch, Dutch (Belgium), Estonian, Finnish, French, German, Greek, Hindi, Hungarian, Italian, Indonesian, Japanese, Korean, Latvian, Lithuanian, Malaysian, Mexican Spanish, Norwegian, Polish, Portuguese, Romanian, Russian, Serbian, Slovak, Slovenian, Spanish, Swedish, Taiwanese Chinese, Thai, Turkish, UK English, Ukrainian, US English, Vietnamese.Your use of this assessment product may be subject to New York City Law 144 (Regulation of the Use of Automated Employment Decision Tools) (dated July 5, 2023). Compliance with Law 144 is your responsibility. Read more on https://www.shl.com/legal/shl-us-regulatory-compliance/ Entry-Level, Supervisor, Manager, Front Line Manager, General Population, Graduate, Mid-Professional, Professional Individual Contributor, English (USA), Chinese Simplified, Approximate Completion Time in minutes = Variable Test Type: Personality & Behavior  Remote Testing \\n\\n  \\n \\n Title : Phone Banker - Short Form \\n URL : https://www.shl.com/solutions/products/product-catalog/view/phone-banker-short-form/ \\n Remote Testing : Yes \\n Adaptive : No \\n\\n Description : This solution is for entry to mid-level financial institution positions. Candidates are asked to answer multiple choice questions to assess learning potential, dependability, persistence and planfulness, sales focus, customer focus, and working with information. Entry-Level, Mid-Professional, English (USA), Approximate Completion Time in minutes = 40 Test Type: Ability & Aptitude, Biodata & Situational Judgement, Personality & Behavior  Remote Testing \\n\\n  \\n \\n Title : Phone Banker - Short Form \\n URL : https://www.shl.com/solutions/products/product-catalog/view/phone-banker-short-form/ \\n Remote Testing : Yes \\n Adaptive : No \\n\\n Description : This solution is for entry to mid-level financial institution positions. Candidates are asked to answer multiple choice questions to assess learning potential, dependability, persistence and planfulness, sales focus, customer focus, and working with information. Entry-Level, Mid-Professional, English (USA), Approximate Completion Time in minutes = 40 Test Type: Ability & Aptitude, Biodata & Situational Judgement, Personality & Behavior  Remote Testing \\n\\n  \\n \\n Title : AI Skills \\n URL : https://www.shl.com/solutions/products/product-catalog/view/ai-skills/ \\n Remote Testing : Yes \\n Adaptive : No \\n\\n Description : The AI Skills assessment measures the skills that help candidates successfully leverage AI in their work. General Population, English (USA), Approximate Completion Time in minutes = 16 Test Type: Personality & Behavior  Remote Testing \\n\\n  \\n \\n Title : Automata Pro (New) \\n URL : https://www.shl.com/solutions/products/product-catalog/view/automata-pro-new/ \\n Remote Testing : Yes \\n Adaptive : No \\n\\n Description : An AI-powered coding simulation assessment that evaluates candidate’s programming ability. Offers a familiar IDE environment available in over 40 different programming languages and tests candidates using real-world coding problems.Your use of this assessment product may be subject to New York City Law 144 (Regulation of the Use of Automated Employment Decision Tools) (dated July 5, 2023). Compliance with Law 144 is your responsibility. Read more on https://www.shl.com/legal/shl-us-regulatory-compliance/ Mid-Professional, Professional Individual Contributor, English (USA), Approximate Completion Time in minutes = max 60 Test Type: Simulations  Remote Testing \\n\\n  \\n \\n Title : SQL (New) \\n URL : https://www.shl.com/solutions/products/product-catalog/view/sql-new/ \\n Remote Testing : Yes \\n Adaptive : No \\n\\n Description : Multi-choice test that measures the knowledge of SQL queries, data manipulation and transaction processing. Mid-Professional, Professional Individual Contributor, English (USA), Approximate Completion Time in minutes = 9 Test Type: Knowledge & Skills  Remote Testing \\n\\n  \\n \\n Title : Automata Selenium \\n URL : https://www.shl.com/solutions/products/product-catalog/view/automata-selenium/ \\n Remote Testing : Yes \\n Adaptive : No \\n\\n Description : A coding simulation assessment that evaluates the ability to conduct tasks related to automation testing using Selenium scripts. Entry-Level, Graduate, Manager, Mid-Professional, Professional Individual Contributor, English (USA), Approximate Completion Time in minutes = 60 Test Type: Simulations  Remote Testing \\n\\n  \\n \\n Title : Automata (New) \\n URL : https://www.shl.com/solutions/products/product-catalog/view/automata-new/ \\n Remote Testing : Yes \\n Adaptive : No \\n\\n Description : An AI-powered coding simulation assessment that evaluates candidate’s programming ability. Offers a familiar IDE environment available in over 40 different programming languages and tests candidates using real-world coding problems.Your use of this assessment product may be subject to New York City Law 144 (Regulation of the Use of Automated Employment Decision Tools) (dated July 5, 2023). Compliance with Law 144 is your responsibility. Read more on https://www.shl.com/legal/shl-us-regulatory-compliance/ Mid-Professional, Professional Individual Contributor, English (USA), Approximate Completion Time in minutes = max 45 Test Type: Simulations  Remote Testing \\n\\n  \\n \\n Title : Sales Professional 7.0 Solution \\n URL : https://www.shl.com/solutions/products/product-catalog/view/sales-professional-7-0-solution/ \\n Remote Testing : Yes \\n Adaptive : No \\n\\n Description : Our Sales Professional 7.0 solution is designed for entry to mid-level sales positions in which employees proactively sell products to customers, develop relationships with repeat customers, and have their pay and/or performance heavily based on sales revenue. Sample tasks for these jobs include, but are not limited to: promoting products to customers, persuading customers to buy products, and building ongoing customer relationships.Report Language Availability:English (USA). Mid-Professional, Professional Individual Contributor, English International, English (USA), French (Canada), Latin American Spanish, Approximate Completion Time in minutes = 21 Test Type: Competencies, Biodata & Situational Judgement  Remote Testing \\n\\n  \\n \\n Title : Visual Basic for Applications (New) \\n URL : https://www.shl.com/solutions/products/product-catalog/view/visual-basic-for-applications-new/ \\n Remote Testing : Yes \\n Adaptive : No \\n\\n Description : Multi-choice test that measures the knowledge of VBA programming constructs, forms, controls and VBA security. Mid-Professional, Professional Individual Contributor, English (USA), Approximate Completion Time in minutes = 7 Test Type: Knowledge & Skills  Remote Testing \\n\\n  \\n \\n Title : General Entry Level - All Industries 7.1 Solution \\n URL : https://www.shl.com/solutions/products/product-catalog/view/general-entry-level-all-industries-7-1-solution/ \\n Remote Testing : Yes \\n Adaptive : No \\n\\n Description : Our General Entry Level – All Industries 7.1 solution is designed for entry-level positions across industries. This solution predicts the following types of behaviors foundational to all jobs: being on-time to work; following rules and policies; treating others respectfully; producing quality work; meeting goals; and effectively working alongside others. Solution can be used across all industries with entry-level positions. Example titles include, but are not limited to: Administrator, Clerk, Veterinary Assistant, Stocker, Dish Washer, Office Coordinator, Tour Guide, Cook, Assistant, Housekeeper, Waste Collector.“MCP Product: please note that you will need to select the correct package depending on which norm you intend to use. The package available for this product is Americas and International.\" Entry-Level, German, Norwegian, Finnish, French (Canada), Portuguese (Brazil), Latin American Spanish, English (USA), English International, Danish, Swedish, French, Italian, Approximate Completion Time in minutes = 19 Test Type: Biodata & Situational Judgement  Remote Testing \\n\\n  \\n \\n Title : Virtual Assessment and Development Centers \\n URL : https://www.shl.com/solutions/products/product-catalog/view/virtual-assessment-and-development-centers/ \\n Remote Testing : Yes \\n Adaptive : No \\n\\n Description : SHL’s innovative virtual assessment centers wow new hires or existing employees and show how you invest in your people. They are a highly engaging experience, inclusive and packed with predictive power to undercover potential. SHL’s virtual assessment and development center platform is packaged with features to support your candidates, assessors and center administrators. Deliver a full range of assessment center exercises, from inbox simulations and written analysis, through coaching and role-play with preparation materials and one to one live virtual interactions, to assigned or unassigned role group exercises. Exercises are available across a range of job levels and industry scenarios Want to find out more or book a demo? Visit https://www.shl.com/en/solutions/virtual/virtual-assessment-development-center/Language Availabilityfor the candidate and assessor simulation interface is shown in the list below.Language Availabilityfor the live interactions interface (Smart Interview Live) is currently: English US, Japanese, Simplified Chinese, Spanish, Portuguese, Brazilian Portuguese, French, Canadian French, Italian, Dutch, Latin American Spanish, Romanian, Indonesian, German, Greek. Director, Entry-Level, Executive, Front Line Manager, General Population, Graduate, Manager, Mid-Professional, Professional Individual Contributor, Supervisor, English (USA), English International, Italian, German, Portuguese, Spanish, Latin American Spanish, French, French (Canada), Dutch, Japanese, Indonesian, Greek, Romanian, Chinese Simplified, Arabic, Approximate Completion Time in minutes = N/A Test Type: Personality & Behavior  Remote Testing \\n\\n  \\n \\n Title : SQL Server Analysis Services (SSAS) (New) \\n URL : https://www.shl.com/solutions/products/product-catalog/view/sql-server-analysis-services-%28ssas%29-%28new%29/ \\n Remote Testing : Yes \\n Adaptive : No \\n\\n Description : Multi-choice test that measures the knowledge of SSAS database, querying multidimensional analysis solutions, cube hierarchies, measures, dimensions, power BI, DAX, MDX, tabular model data access and security. Mid-Professional, Professional Individual Contributor, English (USA), Approximate Completion Time in minutes = 15 Test Type: Knowledge & Skills  Remote Testing \\n\\n  \\n \\n Title : OPQ Profile Report \\n URL : https://www.shl.com/solutions/products/product-catalog/view/opq-profile-report/ \\n Remote Testing : Yes \\n Adaptive : No \\n\\n Description : This is a graphical profile charts presenting results across the 32 OPQ scales. It is designed to be interpreted by OPQ trained users only.Please note this report is currently being updated on Talent Central as part of a reporting refresh project, and there may be visual differences when comparing Talent Central reports to ones generated on other assessment platforms. Differences are regarding the layout and display of the reports only and do not affect the underlying scoring. When viewing sample reports, please ensure you select the appropriate language and platform example.Where a sample report has no platform indicated, it is available on both the Talent Central and SODA platforms. Director, Executive, Front Line Manager, General Population, Graduate, Manager, Mid-Professional, Professional Individual Contributor, Supervisor, Arabic, Romanian, Slovak, Serbian, Chinese Simplified, Chinese Traditional, Danish, Flemish, Dutch, English International, Finnish, French (Belgium), French (Canada), French, German, Greek, Hungarian, Icelandic, Indonesian, Italian, Japanese, Korean, Norwegian, Polish, Portuguese (Brazil), Portuguese, Russian, Latin American Spanish, Spanish, Swedish, Thai, Turkish, English (USA), Czech, Estonian, Latvian, Lithuanian,  Remote Testing \\n\\n  \\n \\n Title : Technology Professional 8.0 Job Focused Assessment \\n URL : https://www.shl.com/solutions/products/product-catalog/view/technology-professional-8-0-job-focused-assessment/ \\n Remote Testing : Yes \\n Adaptive : No \\n\\n Description : The Technology Job Focused Assessment assesseskey behavioral attributesrequired for success in fast-paced, rapidly evolvingtechnology environments, providing an indication of the candidate’s longer termpotential. It is available as part of SHL’s Technology Hiring Solution. Entry-Level, Graduate, Mid-Professional, Professional Individual Contributor, German, Spanish, Latin American Spanish, French, Italian, Indonesian, Chinese Simplified, French (Canada), English International, English (USA), Approximate Completion Time in minutes = 16 Test Type: Competencies, Personality & Behavior  Remote Testing \\n\\n  \\n \\n Title : Professional 7.0 Solution \\n URL : https://www.shl.com/solutions/products/product-catalog/view/professional-7-0-solution/ \\n Remote Testing : Yes \\n Adaptive : No \\n\\n Description : Our Professional 7.0 solution is designed for all non-managerial professional individual contributor positions. Sample tasks for these jobs include, but are not limited to: gathering requirements, analyzing data, managing projects, producing products or services.Report Language Availability:English (USA), Latin American Spanish. Mid-Professional, Professional Individual Contributor, English (USA), English International, French (Canada), Latin American Spanish, Approximate Completion Time in minutes = 33 Test Type: Biodata & Situational Judgement, Competencies  Remote Testing \\n\\n  \\n \\n Title : Sales Professional 7.1 (Americas) \\n URL : https://www.shl.com/solutions/products/product-catalog/view/sales-professional-7-1-%28americas%29/ \\n Remote Testing : Yes \\n Adaptive : No \\n\\n Description : Our Sales Professional 7.1 solution is designed for entry to mid-level sales positions in which employees proactively sell products to customers, develop relationships with repeat customers, and have their pay and/or performance heavily based on sales revenue. Sample tasks for these jobs include, but are not limited to: promoting products to customers, persuading customers to buy products, and building ongoing customer relationships. Professional Individual Contributor, Mid-Professional, English (USA), Portuguese (Brazil), Latin American Spanish, French (Canada), Approximate Completion Time in minutes = 21 Test Type: Biodata & Situational Judgement, Competencies  Remote Testing \\n\\n  \\n \\n '"
   ]
  },
  {
   "cell_type": "code",
   "execution_count": null,
   "id": "2149a3e2",
   "metadata": {},
   "outputs": [],
   "source": []
  },
  {
   "cell_type": "markdown",
   "id": "02288477",
   "metadata": {},
   "source": []
  }
 ],
 "metadata": {
  "kernelspec": {
   "display_name": "Python 3",
   "language": "python",
   "name": "python3"
  },
  "language_info": {
   "codemirror_mode": {
    "name": "ipython",
    "version": 3
   },
   "file_extension": ".py",
   "mimetype": "text/x-python",
   "name": "python",
   "nbconvert_exporter": "python",
   "pygments_lexer": "ipython3",
   "version": "3.12.4"
  }
 },
 "nbformat": 4,
 "nbformat_minor": 5
}
